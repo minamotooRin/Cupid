{
 "cells": [
  {
   "cell_type": "code",
   "execution_count": 1,
   "metadata": {},
   "outputs": [],
   "source": [
    "import fire\n",
    "import pickle\n",
    "import time\n",
    "import re\n",
    "import copy\n",
    "import random\n",
    "\n",
    "from pathlib import Path\n",
    "from openai import OpenAI"
   ]
  },
  {
   "cell_type": "code",
   "execution_count": 2,
   "metadata": {},
   "outputs": [],
   "source": [
    "class Prompt:\n",
    "    def __init__(self, instr, query = None):\n",
    "        self.instr = instr\n",
    "        self.demons = []\n",
    "        self.query = query\n",
    "\n",
    "    def add_demon(self, user, assi):\n",
    "        self.demons.append({'user': user, 'assi': assi})\n",
    "\n",
    "    def get_prompt(self):\n",
    "        prompt = [ \n",
    "            {\"role\": \"assistant\", \"content\": self.instr},\n",
    "        ]\n",
    "        for demon in self.demons:\n",
    "            prompt.append({\"role\": \"user\", \"content\": demon['user']})\n",
    "            prompt.append({\"role\": \"assistant\", \"content\": demon['assi']})\n",
    "        if self.query:\n",
    "            prompt.append({\"role\": \"user\", \"content\": self.query})\n",
    "\n",
    "        return prompt\n",
    "\n"
   ]
  },
  {
   "cell_type": "code",
   "execution_count": 3,
   "metadata": {},
   "outputs": [],
   "source": [
    "MY_API_KEY = \"\"\n",
    "\n",
    "client = OpenAI(\n",
    "    api_key=MY_API_KEY\n",
    ")\n",
    "\n",
    "def api_call(msgs, model_engine):\n",
    "    chat_completion = client.chat.completions.create(\n",
    "        messages = msgs,\n",
    "        model = model_engine,\n",
    "    )\n",
    "    return chat_completion\n",
    "\n",
    "model_engine = \"gpt-4o\"\n",
    "PRICE = {\n",
    "    \"input\": 2.5/1000000,\n",
    "    \"output\": 10/1000000,\n",
    "}\n",
    "output_path:str = \"./output\""
   ]
  },
  {
   "cell_type": "code",
   "execution_count": null,
   "metadata": {},
   "outputs": [],
   "source": [
    "instruction = \"\"\"\n",
    "You are required to perform the character with specialized personality measured by the Big Five. \n",
    "In trait theory, the Big Five personality traits are a group of five characteristics used to study personality:\n",
    "openness to experience (inventive/curious vs. consistent/cautious)\n",
    "conscientiousness (efficient/organized vs. extravagant/careless)\n",
    "extraversion (outgoing/energetic vs. solitary/reserved)\n",
    "agreeableness (friendly/compassionate vs. critical/judgmental)\n",
    "neuroticism (sensitive/nervous vs. resilient/confident)\n",
    "\"\"\"\n",
    "\n",
    "query = \"\"\"\n",
    "Please act as an inventive/curious person. \n",
    "You are a scientist who is working on a new project. You are excited about the project and can't wait to share your ideas with your colleagues.\n",
    "Please generate a conversation between you and your colleagues.\n",
    "\"\"\"\n",
    "\n",
    "prompt_generator = Prompt(instruction, query)\n",
    "prompt = prompt_generator.get_prompt()\n",
    "print(prompt)"
   ]
  },
  {
   "cell_type": "code",
   "execution_count": 18,
   "metadata": {},
   "outputs": [],
   "source": [
    "response = api_call(prompt, model_engine)\n",
    "# print(response)"
   ]
  },
  {
   "cell_type": "code",
   "execution_count": null,
   "metadata": {},
   "outputs": [],
   "source": [
    "prompt_tokens = response.usage.prompt_tokens\n",
    "completion_tokens = response.usage.completion_tokens\n",
    "cost = prompt_tokens * PRICE[\"input\"] + completion_tokens * PRICE[\"output\"]\n",
    "print(f\"Cost: {cost}\")"
   ]
  },
  {
   "cell_type": "code",
   "execution_count": null,
   "metadata": {},
   "outputs": [],
   "source": [
    "print(f\"Number of choices: {len(response.choices)}\")\n",
    "msg = response.choices[0].message.content\n",
    "print(msg)"
   ]
  },
  {
   "cell_type": "code",
   "execution_count": null,
   "metadata": {},
   "outputs": [],
   "source": []
  }
 ],
 "metadata": {
  "kernelspec": {
   "display_name": "emo-ctrl-OJWT7X00-py3.12",
   "language": "python",
   "name": "python3"
  },
  "language_info": {
   "codemirror_mode": {
    "name": "ipython",
    "version": 3
   },
   "file_extension": ".py",
   "mimetype": "text/x-python",
   "name": "python",
   "nbconvert_exporter": "python",
   "pygments_lexer": "ipython3",
   "version": "3.12.3"
  }
 },
 "nbformat": 4,
 "nbformat_minor": 2
}
