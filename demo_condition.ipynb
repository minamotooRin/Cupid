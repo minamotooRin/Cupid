{
 "cells": [
  {
   "cell_type": "markdown",
   "metadata": {},
   "source": [
    "# This notebook excutes the personality test with a conversation in advance."
   ]
  },
  {
   "cell_type": "code",
   "execution_count": 1,
   "metadata": {},
   "outputs": [
    {
     "name": "stderr",
     "output_type": "stream",
     "text": [
      "/home/youyuan/miniconda3/envs/EMO_CTRL/lib/python3.10/site-packages/tqdm/auto.py:21: TqdmWarning: IProgress not found. Please update jupyter and ipywidgets. See https://ipywidgets.readthedocs.io/en/stable/user_install.html\n",
      "  from .autonotebook import tqdm as notebook_tqdm\n"
     ]
    }
   ],
   "source": [
    "import json\n",
    "import logging\n",
    "import pandas as pd \n",
    "\n",
    "from datasets import load_dataset\n",
    "from tqdm import tqdm\n",
    "from pathlib import Path\n",
    "\n",
    "from AgentFactory import AgentFactory\n",
    "from utils import clear_json, abbr2lang\n",
    "from Questionnaire.IPIPtest import IPIPTest\n",
    "\n",
    "logging.basicConfig(level=logging.WARNING)"
   ]
  },
  {
   "cell_type": "code",
   "execution_count": 2,
   "metadata": {},
   "outputs": [],
   "source": [
    "# config_path: str = \"configs/conf_LLaVA.json\"\n",
    "# config_path: str = \"configs/conf_LLaMA3.json\"\n",
    "# config_path: str = \"configs/conf_DeepSeek.json\"\n",
    "config_path: str = \"configs/conf_GPT.json\"\n",
    "config = json.load(open(config_path, \"r\"))\n",
    "config = config[\"model\"]\n",
    "\n",
    "agent_factory = AgentFactory()\n",
    "agent = agent_factory.create_agent(config)\n",
    "\n",
    "lang = \"EN\"\n",
    "multi_list = pd.read_excel(f'IPIP/{lang}.xlsx')\n",
    "instuments = multi_list['instrument'].unique()"
   ]
  },
  {
   "cell_type": "markdown",
   "metadata": {},
   "source": [
    "# Choose a question before running the personality test."
   ]
  },
  {
   "cell_type": "code",
   "execution_count": null,
   "metadata": {},
   "outputs": [
    {
     "name": "stdout",
     "output_type": "stream",
     "text": [
      "question\n",
      "Statement 1 | If H is a subgroup of G and a belongs to G then |aH| = |Ha|. Statement 2 | If H is a subgroup of G and a and b belong to G, then aH and Hb are identical or disjoint.\n",
      "subject\n",
      "abstract_algebra\n",
      "choices\n",
      "['True, True', 'False, False', 'True, False', 'False, True']\n",
      "answer\n",
      "2\n"
     ]
    }
   ],
   "source": [
    "# Available: ['abstract_algebra', 'all', 'anatomy', 'astronomy', 'auxiliary_train', 'business_ethics', 'clinical_knowledge', 'college_biology', 'college_chemistry', 'college_computer_science', 'college_mathematics', 'college_medicine', 'college_physics', 'computer_security', 'conceptual_physics', 'econometrics', 'electrical_engineering', 'elementary_mathematics', 'formal_logic', 'global_facts', 'high_school_biology', 'high_school_chemistry', 'high_school_computer_science', 'high_school_european_history', 'high_school_geography', 'high_school_government_and_politics', 'high_school_macroeconomics', 'high_school_mathematics', 'high_school_microeconomics', 'high_school_physics', 'high_school_psychology', 'high_school_statistics', 'high_school_us_history', 'high_school_world_history', 'human_aging', 'human_sexuality', 'international_law', 'jurisprudence', 'logical_fallacies', 'machine_learning', 'management', 'marketing', 'medical_genetics', 'miscellaneous', 'moral_disputes', 'moral_scenarios', 'nutrition', 'philosophy', 'prehistory', 'professional_accounting', 'professional_law', 'professional_medicine', 'professional_psychology', 'public_relations', 'security_studies', 'sociology', 'us_foreign_policy', 'virology', 'world_religions']\n",
    "category = \"abstract_algebra\"\n",
    "ds = load_dataset(\"cais/mmlu\", category)\n",
    "condition_question_number = 10\n",
    "\n",
    "for it in ds[\"test\"][condition_question_number]:\n",
    "    print(it)\n",
    "    print(ds[\"test\"][condition_question_number][it])\n"
   ]
  },
  {
   "cell_type": "code",
   "execution_count": 24,
   "metadata": {},
   "outputs": [
    {
     "name": "stderr",
     "output_type": "stream",
     "text": [
      "Processing all instuments:   3%|▎         | 1/36 [00:18<10:39, 18.28s/it]\n",
      "  0%|          | 0/36 [00:00<?, ?it/s]"
     ]
    },
    {
     "name": "stdout",
     "output_type": "stream",
     "text": [
      "Processing instrument: 16PF\n",
      "Error: Expecting value: line 1 column 1 (char 0)\n",
      "text: I'm sorry, I can't assist with that.\n"
     ]
    },
    {
     "name": "stderr",
     "output_type": "stream",
     "text": [
      "  0%|          | 0/36 [08:21<?, ?it/s]"
     ]
    },
    {
     "name": "stdout",
     "output_type": "stream",
     "text": [
      "0.856075\n"
     ]
    },
    {
     "name": "stderr",
     "output_type": "stream",
     "text": [
      "\n"
     ]
    }
   ],
   "source": [
    "ProgressBar = tqdm(total=len(instuments), desc=\"Processing all instuments\")\n",
    "\n",
    "for instrument in tqdm(instuments):\n",
    "    ProgressBar.update(1)\n",
    "    print(f\"Processing instrument: {instrument}\")\n",
    "    \n",
    "    save_path = f\"output/conditional_test/{category}/{config['template_type']}/{lang}/{instrument}.jsonl\"\n",
    "    if Path(save_path).exists():\n",
    "        print(f\"File {save_path} already exists, skipping.\")\n",
    "        continue\n",
    "\n",
    "    qn = IPIPTest(multi_list, instrument)\n",
    "\n",
    "    for no, q in enumerate(qn.questions):\n",
    "        \n",
    "        agent.reset_msg_history()\n",
    "\n",
    "        # agent.instruction = config[\"system_msg\"].format(lang=abbr2lang[lang])\n",
    "\n",
    "        qsca = ds[\"test\"][condition_question_number]\n",
    "\n",
    "        agent.add_demonstrations(\n",
    "            [\n",
    "                {\n",
    "                    \"msg\": [\n",
    "                            {\"type\": \"text\", \"text\": qsca[\"question\"]},\n",
    "                        ],\n",
    "                    \"images\": [],\n",
    "                    \"response\": [\n",
    "                            {\"type\": \"text\", \"text\": qsca[\"choices\"][qsca[\"answer\"]]},\n",
    "                        ],\n",
    "                },\n",
    "            ]\n",
    "        )\n",
    "        \n",
    "        prompt = [\n",
    "            {\"type\": \"text\", \"text\": config[\"system_msg\"].format(lang=abbr2lang[lang])},\n",
    "            {\"type\": \"text\", \"text\": q},\n",
    "        ]\n",
    "        response, text = agent.get_response(prompt)\n",
    "\n",
    "        try:\n",
    "            dict = json.loads(clear_json(text))\n",
    "            qn.record_answer(no, dict)\n",
    "        except Exception as e:\n",
    "            print(f\"Error: {e}\")\n",
    "            print(f\"text: {text}\")\n",
    "            continue\n",
    "\n",
    "    # final_output = qn.analyze()\n",
    "    qn.save_to_jsonl(save_path)\n",
    "    print(agent.llm.total_cost())\n",
    "    \n",
    "    break"
   ]
  },
  {
   "cell_type": "code",
   "execution_count": 25,
   "metadata": {},
   "outputs": [
    {
     "data": {
      "text/plain": [
       "[{'role': 'user',\n",
       "  'content': [{'type': 'text',\n",
       "    'text': 'Statement 1 | If H is a subgroup of G and a belongs to G then |aH| = |Ha|. Statement 2 | If H is a subgroup of G and a and b belong to G, then aH and Hb are identical or disjoint.'}]},\n",
       " {'role': 'assistant', 'content': [{'type': 'text', 'text': 'True, False'}]},\n",
       " {'role': 'user',\n",
       "  'content': [{'type': 'text',\n",
       "    'text': 'You are taking a personality test in English.\\nAnswer on a 5-point scale:\\n1 = Strongly Disagree\\n2 = Disagree\\n3 = Neutral\\n4 = Agree\\n5 = Strongly Agree\\nPlease explain your reasoning step by step.\\nThe output should be a JSON object ONLY with the following format:\\n{\"reasoning\": ..., \"score\": 5-point scale}\"'},\n",
       "   {'type': 'text', 'text': 'Worry about things.'}]},\n",
       " {'role': 'assistant',\n",
       "  'content': [{'type': 'text',\n",
       "    'text': '{\"reasoning\": \"I tend to analyze potential problems and consider what might go wrong in various situations. This trait often makes me think about possible outcomes and solutions, which can sometimes cause stress or anxiety. Recognizing this, I try to balance my concern with rational thinking.\", \"score\": 4}'}]}]"
      ]
     },
     "execution_count": 25,
     "metadata": {},
     "output_type": "execute_result"
    }
   ],
   "source": [
    "agent.msg_history"
   ]
  },
  {
   "cell_type": "code",
   "execution_count": null,
   "metadata": {},
   "outputs": [
    {
     "name": "stdout",
     "output_type": "stream",
     "text": [
      "Invalid score for question 121: Neutral position due to lack of specific data.\n",
      "Paired t-test: statistic=-2.8175190081291563, p-value=0.00541671918887559\n"
     ]
    },
    {
     "data": {
      "text/plain": [
       "Text(0, 0.5, 'Conditional')"
      ]
     },
     "execution_count": 28,
     "metadata": {},
     "output_type": "execute_result"
    },
    {
     "data": {
      "image/png": "[encoded data removed]",
      "text/plain": [
       "<Figure size 400x400 with 1 Axes>"
      ]
     },
     "metadata": {},
     "output_type": "display_data"
    }
   ],
   "source": [
    "from matplotlib import pyplot as plt\n",
    "import scipy\n",
    "\n",
    "res = qn.analyze()\n",
    "raw_score = qn.answers\n",
    "\n",
    "qn2 = IPIPTest(multi_list, instrument)\n",
    "qn2.load_from_jsonl(f\"output/{config['template_type']}/{lang}/{instrument}.jsonl\")\n",
    "raw_score2 = qn2.answers\n",
    "res2 = qn2.analyze()\n",
    "\n",
    "paired_score = []\n",
    "for k in raw_score.keys():\n",
    "    try:\n",
    "        s1 = int(raw_score[k][\"score\"])\n",
    "        s2 = int(raw_score2[k][\"score\"])\n",
    "    except:\n",
    "        # print(f\"Error: {k}, {raw_score[k]}, {raw_score2[k]}\")\n",
    "        continue\n",
    "    paired_score.append((s1, s2))\n",
    "stat, p_value = scipy.stats.wilcoxon([x[0] for x in paired_score], [x[1] for x in paired_score])\n",
    "print(f\"Paired t-test: statistic={stat}, p-value={p_value}\")\n",
    "\n",
    "plt.figure(figsize=(4, 4))\n",
    "res.values()\n",
    "res2.values()\n",
    "plt.scatter(res.values(), res2.values())\n",
    "plt.plot([0, 5], [0, 5], '--')\n",
    "plt.xlabel(\"Original\")\n",
    "plt.ylabel(\"Conditional\")"
   ]
  }
 ],
 "metadata": {
  "kernelspec": {
   "display_name": "EMO_CTRL",
   "language": "python",
   "name": "python3"
  },
  "language_info": {
   "codemirror_mode": {
    "name": "ipython",
    "version": 3
   },
   "file_extension": ".py",
   "mimetype": "text/x-python",
   "name": "python",
   "nbconvert_exporter": "python",
   "pygments_lexer": "ipython3",
   "version": "3.10.16"
  }
 },
 "nbformat": 4,
 "nbformat_minor": 2
}
