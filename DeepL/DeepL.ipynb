{
 "cells": [
  {
   "cell_type": "code",
   "execution_count": 1,
   "metadata": {},
   "outputs": [],
   "source": [
    "import logging\n",
    "import deepl\n",
    "import pandas as pd \n",
    "\n",
    "from tqdm import tqdm\n",
    "\n",
    "logging.basicConfig(level=logging.WARNING)"
   ]
  },
  {
   "cell_type": "code",
   "execution_count": 2,
   "metadata": {},
   "outputs": [],
   "source": [
    "class Translator:\n",
    "    def __init__(self, auth_key):\n",
    "        self.auth_key = auth_key\n",
    "        self.translator = deepl.Translator(auth_key)\n",
    "        self.billed_characters = 0\n",
    "\n",
    "    def translate_text(self, text, source_lang, target_lang):\n",
    "        try:\n",
    "            result = self.translator.translate_text(text, source_lang=source_lang, target_lang=target_lang)\n",
    "            self.billed_characters += result.billed_characters\n",
    "            return result.text\n",
    "        except deepl.exceptions.DeepLException as e:\n",
    "            logging.error(f\"Error translating text: {e}\")\n",
    "            return text\n",
    "    \n",
    "    def __str__(self):\n",
    "        return f\"Translator(auth_key={self.auth_key}), billed_characters={self.billed_characters})\"\n",
    "\n",
    "auth_key = '508e43b0-f363-479b-b8d4-eca3d752e761:fx'\n",
    "translator = Translator(auth_key)"
   ]
  },
  {
   "cell_type": "code",
   "execution_count": 5,
   "metadata": {},
   "outputs": [],
   "source": [
    "def translate_text(text, source_lang=\"EN\", target_lang=\"DE\"):\n",
    "    # Translate the text using the DeepL API\n",
    "    result = translator.translate_text(text, source_lang, target_lang)\n",
    "    return result\n",
    "\n",
    "def translate_column(df, column_name, source_lang=\"EN\", target_lang=\"DE\"):\n",
    "    if column_name not in df.columns:\n",
    "        raise ValueError(f\"Column '{column_name}' does not exist in the DataFrame.\")\n",
    "    \n",
    "    # Create a copy of the DataFrame to avoid modifying the original\n",
    "    df_copy = df.copy()\n",
    "\n",
    "    # Translate the specified column\n",
    "    # df_copy[column_name] = df_copy[column_name].apply(lambda x: translate_text(x, source_lang, target_lang) if isinstance(x, str) else x)\n",
    "\n",
    "    # Translate the specified column with tqdm\n",
    "    for index, row in tqdm(df_copy.iterrows(), total=df_copy.shape[0], desc=f\"Translating {column_name}\"):\n",
    "        text = row[column_name]\n",
    "        if isinstance(text, str):\n",
    "            translated_text = translate_text(text, source_lang, target_lang)\n",
    "            df_copy.at[index, column_name] = translated_text\n",
    "        else:\n",
    "            df_copy.at[index, column_name] = text\n",
    "\n",
    "    return df_copy"
   ]
  },
  {
   "cell_type": "code",
   "execution_count": null,
   "metadata": {},
   "outputs": [
    {
     "name": "stdout",
     "output_type": "stream",
     "text": [
      "Saving translated DataFrame to /Users/youyuan/Cupid/TedoneItemAssignmentTable30APR21_ZH.xlsx, billed characters: 114135\n"
     ]
    }
   ],
   "source": [
    "target_lang = 'ZH'\n",
    "\n",
    "multi_list = pd.read_excel('/home/youyuan/Cupid/TedoneItemAssignmentTable30APR21.xlsx')\n",
    "multi_list_translated = translate_column(multi_list, 'text', source_lang=\"EN\", target_lang=target_lang)\n",
    "output_file = f\"/home/youyuan/Cupid/TedoneItemAssignmentTable30APR21_{target_lang}.xlsx\"\n",
    "multi_list_translated.to_excel(output_file, index=False)\n",
    "\n",
    "print(f\"Saving translated DataFrame to {output_file}, billed characters: {translator.billed_characters}\")\n"
   ]
  },
  {
   "cell_type": "code",
   "execution_count": 8,
   "metadata": {},
   "outputs": [],
   "source": [
    "output_file = f\"/home/youyuan/Cupid/TedoneItemAssignmentTable30APR21_{target_lang}.xlsx\"\n",
    "\n",
    "multi_list_translated.to_excel(output_file, index=False)"
   ]
  }
 ],
 "metadata": {
  "kernelspec": {
   "display_name": "EMO_CTRL",
   "language": "python",
   "name": "python3"
  },
  "language_info": {
   "codemirror_mode": {
    "name": "ipython",
    "version": 3
   },
   "file_extension": ".py",
   "mimetype": "text/x-python",
   "name": "python",
   "nbconvert_exporter": "python",
   "pygments_lexer": "ipython3",
   "version": "3.10.16"
  }
 },
 "nbformat": 4,
 "nbformat_minor": 2
}
