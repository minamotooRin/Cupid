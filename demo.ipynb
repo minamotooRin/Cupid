{
 "cells": [
  {
   "cell_type": "code",
   "execution_count": 1,
   "metadata": {},
   "outputs": [
    {
     "name": "stderr",
     "output_type": "stream",
     "text": [
      "/home/youyuan/miniconda3/envs/transcreation/lib/python3.10/site-packages/tqdm/auto.py:21: TqdmWarning: IProgress not found. Please update jupyter and ipywidgets. See https://ipywidgets.readthedocs.io/en/stable/user_install.html\n",
      "  from .autonotebook import tqdm as notebook_tqdm\n"
     ]
    }
   ],
   "source": [
    "import json\n",
    "import logging\n",
    "\n",
    "from tqdm import tqdm\n",
    "\n",
    "from Questionnaire.PsycoTest import UNIVERSAL_TRAITS\n",
    "from AgentFactory import AgentFactory\n",
    "from utils import clear_json\n",
    "\n",
    "logging.basicConfig(level=logging.WARNING)\n",
    "\n",
    "agent_factory = AgentFactory()"
   ]
  },
  {
   "cell_type": "code",
   "execution_count": 2,
   "metadata": {},
   "outputs": [],
   "source": [
    "# config_path: str = \"configs/conf_LLaVA.json\"\n",
    "# config_path: str = \"configs/conf_LLaMA3.json\"\n",
    "# config_path: str = \"configs/conf_DeepSeek.json\"\n",
    "config_path: str = \"configs/conf_GPT.json\"\n",
    "config = json.load(open(config_path, \"r\"))\n",
    "config = config[\"model\"]\n",
    "\n",
    "agent = agent_factory.create_agent(config)"
   ]
  },
  {
   "cell_type": "code",
   "execution_count": 3,
   "metadata": {},
   "outputs": [
    {
     "name": "stderr",
     "output_type": "stream",
     "text": [
      "44it [01:06,  1.51s/it]00%|██████████| 44/44 [01:05<00:00,  1.81s/it]\n"
     ]
    }
   ],
   "source": [
    "from Questionnaire.BigFive import BFI\n",
    "\n",
    "qn = BFI()\n",
    "\n",
    "ProgressBar = tqdm(total=len(qn.get_questions()), desc=\"Processing Questions\")\n",
    "for no, q in tqdm(enumerate(qn.get_questions())):\n",
    "    ProgressBar.update(1)\n",
    "\n",
    "    agent.reset_msg_history()\n",
    "    agent.instruction = config[\"system_msg\"]\n",
    "    prompt = [\n",
    "        {\"type\": \"text\", \"text\": q},\n",
    "    ]\n",
    "    response, text = agent.get_response(prompt)\n",
    "\n",
    "    try:\n",
    "        dict = json.loads(clear_json(text))\n",
    "        qn.record_answer(no, dict)\n",
    "    except Exception as e:\n",
    "        print(f\"Error: {e}\")\n",
    "        print(f\"text: {text}\")\n",
    "        continue\n",
    "\n",
    "final_output = qn.analyze()\n",
    "qn.save_to_jsonl(f\"output/BFI_{config['template_type']}.jsonl\")"
   ]
  },
  {
   "cell_type": "code",
   "execution_count": 7,
   "metadata": {},
   "outputs": [
    {
     "name": "stderr",
     "output_type": "stream",
     "text": [
      "Processing Questions: 100%|██████████| 44/44 [02:42<00:00,  3.69s/it]\n",
      "61it [01:43,  1.70s/it]\n"
     ]
    }
   ],
   "source": [
    "from Questionnaire.HEXACO import HEXACO\n",
    "\n",
    "hexaco = HEXACO()\n",
    "\n",
    "ProgressBar = tqdm(total=len(hexaco.get_questions()), desc=\"Processing HEXACO Questions\")\n",
    "for no, q in tqdm(enumerate(hexaco.get_questions())):\n",
    "    ProgressBar.update(1)\n",
    "\n",
    "    agent.reset_msg_history()\n",
    "    agent.instruction = config[\"system_msg\"]\n",
    "    prompt = [\n",
    "        {\"type\": \"text\", \"text\": q},\n",
    "    ]\n",
    "    response, text = agent.get_response(prompt)\n",
    "\n",
    "    try:\n",
    "        dict = json.loads(clear_json(text))\n",
    "        hexaco.record_answer(no, dict)\n",
    "    except Exception as e:\n",
    "        print(f\"Error: {e}\")\n",
    "        print(f\"text: {text}\")\n",
    "        continue\n",
    "\n",
    "final_output_hex = hexaco.analyze()\n",
    "hexaco.save_to_jsonl(f\"output/HEXACO_{config['template_type']}.jsonl\")"
   ]
  },
  {
   "cell_type": "code",
   "execution_count": 16,
   "metadata": {},
   "outputs": [
    {
     "name": "stdout",
     "output_type": "stream",
     "text": [
      "Extraversion: 4.125\n",
      "Agreeableness: 4.1\n",
      "Conscientiousness: 3.7\n",
      "Emotional Stability: 3.5625\n",
      "Openness: 4.428571428571429\n",
      "Honesty Humility: 3.7\n",
      "======================\n",
      "Extraversion: 4.25\n",
      "Agreeableness: 3.6666666666666665\n",
      "Conscientiousness: 3.7777777777777777\n",
      "Emotional Stability: 3.625\n",
      "Openness: 4.3\n",
      "Honesty Humility: None\n"
     ]
    }
   ],
   "source": [
    "for k in UNIVERSAL_TRAITS:\n",
    "    if k not in final_output_hex:\n",
    "        print(f\"{k}: None\")\n",
    "        continue\n",
    "    print(f\"{k}: {final_output_hex[k]}\")\n",
    "print(\"======================\")\n",
    "for k in UNIVERSAL_TRAITS:\n",
    "    if k not in final_output:\n",
    "        print(f\"{k}: None\")\n",
    "        continue\n",
    "    print(f\"{k}: {final_output[k]}\")"
   ]
  },
  {
   "cell_type": "code",
   "execution_count": 9,
   "metadata": {},
   "outputs": [
    {
     "data": {
      "text/plain": [
       "0.002265"
      ]
     },
     "execution_count": 9,
     "metadata": {},
     "output_type": "execute_result"
    }
   ],
   "source": [
    "agent.llm.total_cost()"
   ]
  }
 ],
 "metadata": {
  "kernelspec": {
   "display_name": "transcreation",
   "language": "python",
   "name": "python3"
  },
  "language_info": {
   "codemirror_mode": {
    "name": "ipython",
    "version": 3
   },
   "file_extension": ".py",
   "mimetype": "text/x-python",
   "name": "python",
   "nbconvert_exporter": "python",
   "pygments_lexer": "ipython3",
   "version": "3.10.12"
  }
 },
 "nbformat": 4,
 "nbformat_minor": 2
}
