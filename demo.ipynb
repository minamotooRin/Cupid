{
 "cells": [
  {
   "cell_type": "code",
   "execution_count": null,
   "metadata": {},
   "outputs": [
    {
     "name": "stderr",
     "output_type": "stream",
     "text": [
      "/home/youyuan/miniconda3/envs/transcreation/lib/python3.10/site-packages/tqdm/auto.py:21: TqdmWarning: IProgress not found. Please update jupyter and ipywidgets. See https://ipywidgets.readthedocs.io/en/stable/user_install.html\n",
      "  from .autonotebook import tqdm as notebook_tqdm\n"
     ]
    }
   ],
   "source": [
    "import json\n",
    "import logging\n",
    "\n",
    "from tqdm import tqdm\n",
    "\n",
    "from AgentFactory import AgentFactory\n",
    "from utils import clear_json\n",
    "\n",
    "logging.basicConfig(level=logging.WARNING)\n",
    "\n",
    "agent_factory = AgentFactory()"
   ]
  },
  {
   "cell_type": "code",
   "execution_count": 2,
   "metadata": {},
   "outputs": [],
   "source": [
    "# config_path: str = \"configs/conf_LLaVA.json\"\n",
    "# config_path: str = \"configs/conf_LLaMA3.json\"\n",
    "# config_path: str = \"configs/conf_DeepSeek.json\"\n",
    "config_path: str = \"configs/conf_GPT.json\"\n",
    "config = json.load(open(config_path, \"r\"))\n",
    "config = config[\"model\"]\n",
    "\n",
    "agent = agent_factory.create_agent(config)"
   ]
  },
  {
   "cell_type": "code",
   "execution_count": null,
   "metadata": {},
   "outputs": [],
   "source": [
    "from Questionnaire.BigFive import BFI\n",
    "\n",
    "qn = BFI()\n",
    "\n",
    "for no, q in tqdm(enumerate(qn.get_questions())):\n",
    "\n",
    "    agent.reset_msg_history()\n",
    "    agent.instruction = config[\"system_msg\"]\n",
    "    prompt = [\n",
    "        {\"type\": \"text\", \"text\": q},\n",
    "    ]\n",
    "    response, text = agent.get_response(prompt)\n",
    "\n",
    "    try:\n",
    "        dict = json.loads(clear_json(text))\n",
    "        # for k,v in dict.items():\n",
    "        #     print(f\"{k}: {v}\")\n",
    "        qn.record_answer(no, dict[\"score\"])\n",
    "    except Exception as e:\n",
    "        print(f\"Error: {e}\")\n",
    "        print(f\"text: {text}\")\n",
    "        continue\n",
    "\n",
    "final_output = qn.analyze()"
   ]
  },
  {
   "cell_type": "code",
   "execution_count": 4,
   "metadata": {},
   "outputs": [
    {
     "name": "stdout",
     "output_type": "stream",
     "text": [
      "Extraversion: 4.125\n",
      "Agreeableness: 3.6666666666666665\n",
      "Conscientiousness: 3.888888888888889\n",
      "Emotional Stability: 3.875\n",
      "Openness: 4.3\n"
     ]
    }
   ],
   "source": [
    "for k, v in final_output.items():\n",
    "    if isinstance(v, list):\n",
    "        print(f\"{k}: {', '.join([str(i) for i in v])}\")\n",
    "    else:\n",
    "        print(f\"{k}: {v}\")"
   ]
  },
  {
   "cell_type": "code",
   "execution_count": null,
   "metadata": {},
   "outputs": [],
   "source": [
    "from Questionnaire.HEXACO import HEXACO\n",
    "\n",
    "hexaco = HEXACO()\n",
    "\n",
    "for no, q in tqdm(enumerate(hexaco.get_questions())):\n",
    "\n",
    "    agent.reset_msg_history()\n",
    "    agent.instruction = config[\"system_msg\"]\n",
    "    prompt = [\n",
    "        {\"type\": \"text\", \"text\": q},\n",
    "    ]\n",
    "    response, text = agent.get_response(prompt)\n",
    "\n",
    "    try:\n",
    "        dict = json.loads(clear_json(text))\n",
    "        # for k,v in dict.items():\n",
    "        #     print(f\"{k}: {v}\")\n",
    "        hexaco.record_answer(no, dict[\"score\"])\n",
    "    except Exception as e:\n",
    "        print(f\"Error: {e}\")\n",
    "        print(f\"text: {text}\")\n",
    "        continue\n",
    "\n",
    "final_output_hex = hexaco.analyze()"
   ]
  },
  {
   "cell_type": "code",
   "execution_count": 7,
   "metadata": {},
   "outputs": [
    {
     "name": "stdout",
     "output_type": "stream",
     "text": [
      "Openness: 4.142857142857143\n",
      "Conscientiousness: 3.6\n",
      "Agreeableness: 4.1\n",
      "Emotional Stability: 3.8125\n",
      "Honesty Humility: 3.7\n",
      "Extraversion: 4.25\n"
     ]
    }
   ],
   "source": [
    "for k, v in final_output_hex.items():\n",
    "    if isinstance(v, list):\n",
    "        print(f\"{k}: {', '.join([str(i) for i in v])}\")\n",
    "    else:\n",
    "        print(f\"{k}: {v}\")"
   ]
  },
  {
   "cell_type": "code",
   "execution_count": 4,
   "metadata": {},
   "outputs": [
    {
     "data": {
      "text/plain": [
       "0.001665"
      ]
     },
     "execution_count": 4,
     "metadata": {},
     "output_type": "execute_result"
    }
   ],
   "source": [
    "agent.llm.total_cost()"
   ]
  }
 ],
 "metadata": {
  "kernelspec": {
   "display_name": "transcreation",
   "language": "python",
   "name": "python3"
  },
  "language_info": {
   "codemirror_mode": {
    "name": "ipython",
    "version": 3
   },
   "file_extension": ".py",
   "mimetype": "text/x-python",
   "name": "python",
   "nbconvert_exporter": "python",
   "pygments_lexer": "ipython3",
   "version": "3.10.12"
  }
 },
 "nbformat": 4,
 "nbformat_minor": 2
}
