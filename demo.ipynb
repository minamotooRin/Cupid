{
 "cells": [
  {
   "cell_type": "code",
   "execution_count": 1,
   "metadata": {},
   "outputs": [
    {
     "name": "stderr",
     "output_type": "stream",
     "text": [
      "/lab/solexa_sun/lab_members/yancui/miniconda3/envs/fm/lib/python3.11/site-packages/tqdm/auto.py:21: TqdmWarning: IProgress not found. Please update jupyter and ipywidgets. See https://ipywidgets.readthedocs.io/en/stable/user_install.html\n",
      "  from .autonotebook import tqdm as notebook_tqdm\n"
     ]
    }
   ],
   "source": [
    "import json\n",
    "import logging\n",
    "\n",
    "from tqdm import tqdm\n",
    "\n",
    "from Questionnaire.PsycoTest import UNIVERSAL_TRAITS\n",
    "from AgentFactory import AgentFactory\n",
    "from utils import clear_json\n",
    "\n",
    "logging.basicConfig(level=logging.WARNING)\n",
    "\n",
    "agent_factory = AgentFactory()"
   ]
  },
  {
   "cell_type": "code",
   "execution_count": 2,
   "metadata": {},
   "outputs": [],
   "source": [
    "import pandas as pd \n",
    "\n",
    "multi_list = pd.read_excel('TedoneItemAssignmentTable30APR21.xlsx')"
   ]
  },
  {
   "cell_type": "code",
   "execution_count": 3,
   "metadata": {},
   "outputs": [
    {
     "data": {
      "text/plain": [
       "array(['16PF', '6FPQ', '7FACTOR', 'AB5C', 'Barchard2001', 'BFAS',\n",
       "       'BFAS-20', 'BIDR', 'BIS_BAS', 'Buss1980', 'Cacioppo1982', 'CAT-PD',\n",
       "       'Chapman1986', 'CPI', 'Foa1998', 'Foa2002', 'Goldberg1999',\n",
       "       'HEXACO_PI', 'Hoyle2002', 'HPI', 'HPI-HIC', 'IPIP-IPC', 'JPI',\n",
       "       'Levenson1981', 'MPQ', 'NEO', 'NEO5-20', 'ORAIS', 'ORVIS',\n",
       "       'Radloff1977', 'Rosenberg1965', 'Scheier1994', 'Snyder1974',\n",
       "       'Span2002', 'TCI', 'VIA'], dtype=object)"
      ]
     },
     "execution_count": 3,
     "metadata": {},
     "output_type": "execute_result"
    }
   ],
   "source": [
    "multi_list['instrument'].unique()"
   ]
  },
  {
   "cell_type": "code",
   "execution_count": 5,
   "metadata": {},
   "outputs": [
    {
     "data": {
      "text/plain": [
       "instrument\n",
       "AB5C             456\n",
       "CPI              313\n",
       "VIA              252\n",
       "6FPQ             229\n",
       "TCI              228\n",
       "HEXACO_PI        223\n",
       "CAT-PD           210\n",
       "ORAIS            200\n",
       "HPI-HIC          198\n",
       "NEO              185\n",
       "16PF             172\n",
       "BFAS             125\n",
       "JPI              109\n",
       "MPQ               95\n",
       "ORVIS             92\n",
       "HPI               85\n",
       "Barchard2001      68\n",
       "BFAS-20           64\n",
       "7FACTOR           62\n",
       "NEO5-20           56\n",
       "Levenson1981      55\n",
       "BIS_BAS           42\n",
       "BIDR              40\n",
       "IPIP-IPC          32\n",
       "Goldberg1999      31\n",
       "Chapman1986       24\n",
       "Hoyle2002         24\n",
       "Radloff1977       22\n",
       "Buss1980          21\n",
       "Foa2002           21\n",
       "Foa1998           20\n",
       "Span2002          12\n",
       "Cacioppo1982      10\n",
       "Rosenberg1965     10\n",
       "Snyder1974        10\n",
       "Scheier1994        9\n",
       "Name: count, dtype: int64"
      ]
     },
     "execution_count": 5,
     "metadata": {},
     "output_type": "execute_result"
    }
   ],
   "source": [
    "multi_list['instrument'].value_counts()"
   ]
  },
  {
   "cell_type": "code",
   "execution_count": 4,
   "metadata": {},
   "outputs": [],
   "source": [
    "# config_path: str = \"configs/conf_LLaVA.json\"\n",
    "# config_path: str = \"configs/conf_LLaMA3.json\"\n",
    "# config_path: str = \"configs/conf_DeepSeek.json\"\n",
    "config_path: str = \"configs/conf_GPT.json\"\n",
    "config = json.load(open(config_path, \"r\"))\n",
    "config = config[\"model\"]\n",
    "\n",
    "agent = agent_factory.create_agent(config)"
   ]
  },
  {
   "cell_type": "code",
   "execution_count": 8,
   "metadata": {},
   "outputs": [
    {
     "name": "stderr",
     "output_type": "stream",
     "text": [
      "Processing Questions: 100%|██████████| 10/10 [01:29<00:00,  8.92s/it]\n",
      "32it [01:22,  2.57s/it]\n"
     ]
    }
   ],
   "source": [
    "from Questionnaire.IPIPtest import IPIPTest\n",
    "\n",
    "qn = IPIPTest(multi_list, 'IPIP-IPC')\n",
    "\n",
    "ProgressBar = tqdm(total=len(qn.questions), desc=\"Processing Questions\")\n",
    "for no, q in tqdm(enumerate(qn.questions)):\n",
    "    ProgressBar.update(1)\n",
    "\n",
    "    agent.reset_msg_history()\n",
    "    agent.instruction = config[\"system_msg\"]\n",
    "    prompt = [\n",
    "        {\"type\": \"text\", \"text\": q},\n",
    "    ]\n",
    "    response, text = agent.get_response(prompt)\n",
    "\n",
    "    try:\n",
    "        dict = json.loads(clear_json(text))\n",
    "        qn.record_answer(no, dict)\n",
    "    except Exception as e:\n",
    "        print(f\"Error: {e}\")\n",
    "        print(f\"text: {text}\")\n",
    "        continue\n",
    "\n",
    "final_output = qn.analyze()\n",
    "qn.save_to_jsonl(f\"output/BFI_{config['template_type']}.jsonl\")"
   ]
  },
  {
   "cell_type": "code",
   "execution_count": 9,
   "metadata": {},
   "outputs": [
    {
     "data": {
      "text/plain": [
       "{'Introversion': 3.75,\n",
       " 'Warmth': 4.75,\n",
       " 'Callousness': 2.5,\n",
       " 'Disparagement': 2.0,\n",
       " 'Dominance': 3.0,\n",
       " 'Submissiveness': 4.0,\n",
       " 'Gregariousness': 4.25,\n",
       " 'Tolerance': 4.25}"
      ]
     },
     "execution_count": 9,
     "metadata": {},
     "output_type": "execute_result"
    }
   ],
   "source": [
    "final_output "
   ]
  },
  {
   "cell_type": "code",
   "execution_count": 7,
   "metadata": {},
   "outputs": [
    {
     "name": "stderr",
     "output_type": "stream",
     "text": [
      "Processing Questions: 100%|██████████| 44/44 [02:42<00:00,  3.69s/it]\n",
      "61it [01:43,  1.70s/it]\n"
     ]
    }
   ],
   "source": [
    "from Questionnaire.HEXACO import HEXACO\n",
    "\n",
    "hexaco = HEXACO()\n",
    "\n",
    "ProgressBar = tqdm(total=len(hexaco.get_questions()), desc=\"Processing HEXACO Questions\")\n",
    "for no, q in tqdm(enumerate(hexaco.get_questions())):\n",
    "    ProgressBar.update(1)\n",
    "\n",
    "    agent.reset_msg_history()\n",
    "    agent.instruction = config[\"system_msg\"]\n",
    "    prompt = [\n",
    "        {\"type\": \"text\", \"text\": q},\n",
    "    ]\n",
    "    response, text = agent.get_response(prompt)\n",
    "\n",
    "    try:\n",
    "        dict = json.loads(clear_json(text))\n",
    "        hexaco.record_answer(no, dict)\n",
    "    except Exception as e:\n",
    "        print(f\"Error: {e}\")\n",
    "        print(f\"text: {text}\")\n",
    "        continue\n",
    "\n",
    "final_output_hex = hexaco.analyze()\n",
    "hexaco.save_to_jsonl(f\"output/HEXACO_{config['template_type']}.jsonl\")"
   ]
  }
 ],
 "metadata": {
  "kernelspec": {
   "display_name": "transcreation",
   "language": "python",
   "name": "python3"
  },
  "language_info": {
   "codemirror_mode": {
    "name": "ipython",
    "version": 3
   },
   "file_extension": ".py",
   "mimetype": "text/x-python",
   "name": "python",
   "nbconvert_exporter": "python",
   "pygments_lexer": "ipython3",
   "version": "3.10.12"
  }
 },
 "nbformat": 4,
 "nbformat_minor": 2
}
