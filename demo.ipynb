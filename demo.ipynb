{
 "cells": [
  {
   "cell_type": "code",
   "execution_count": 1,
   "metadata": {},
   "outputs": [
    {
     "name": "stderr",
     "output_type": "stream",
     "text": [
      "/home/youyuan/miniconda3/envs/transcreation/lib/python3.10/site-packages/tqdm/auto.py:21: TqdmWarning: IProgress not found. Please update jupyter and ipywidgets. See https://ipywidgets.readthedocs.io/en/stable/user_install.html\n",
      "  from .autonotebook import tqdm as notebook_tqdm\n"
     ]
    }
   ],
   "source": [
    "import json\n",
    "import logging\n",
    "\n",
    "from AgentFactory import AgentFactory\n",
    "from Questionnaire import BigFIve\n",
    "\n",
    "logging.basicConfig(level=logging.INFO)\n",
    "\n",
    "agent_factory = AgentFactory()"
   ]
  },
  {
   "cell_type": "code",
   "execution_count": 2,
   "metadata": {},
   "outputs": [
    {
     "name": "stderr",
     "output_type": "stream",
     "text": [
      "/home/youyuan/miniconda3/envs/transcreation/lib/python3.10/site-packages/torchvision/io/image.py:13: UserWarning: Failed to load image Python extension: libtorch_cuda_cu.so: cannot open shared object file: No such file or directory\n",
      "  warn(f\"Failed to load image Python extension: {e}\")\n",
      "Loading checkpoint shards: 100%|██████████| 4/4 [03:38<00:00, 54.67s/it] \n"
     ]
    }
   ],
   "source": [
    "# config_path: str = \"configs/conf_LLaVA.json\"\n",
    "config_path: str = \"configs/conf_LLaMA3.json\"\n",
    "# config_path: str = \"configs/conf_DeepSeek.json\"\n",
    "config = json.load(open(config_path, \"r\"))\n",
    "config = config[\"model\"]\n",
    "\n",
    "agent = agent_factory.create_agent(config)"
   ]
  },
  {
   "cell_type": "code",
   "execution_count": null,
   "metadata": {},
   "outputs": [],
   "source": [
    "agent.reset_msg_history()\n",
    "\n",
    "agent.instruction = config[\"system_msg\"]\n",
    "\n",
    "prompt = [\n",
    "        {\"type\": \"text\", \"text\": \"Talks a lot\\n\"},\n",
    "]"
   ]
  },
  {
   "cell_type": "code",
   "execution_count": null,
   "metadata": {},
   "outputs": [],
   "source": [
    "response, text = agent.get_response(prompt)\n",
    "# print(text)"
   ]
  },
  {
   "cell_type": "markdown",
   "metadata": {},
   "source": [
    "### Loading a multi-modal model"
   ]
  },
  {
   "cell_type": "code",
   "execution_count": null,
   "metadata": {},
   "outputs": [],
   "source": [
    "# config_path: str = \"configs/conf_Gemini.json\"\n",
    "# config_path: str = \"configs/conf_Qwen2.5.json\"\n",
    "config_path: str = \"configs/conf_GPT.json\"\n",
    "config = json.load(open(config_path, \"r\"))\n",
    "config = config[\"model\"]\n",
    "\n",
    "agent = agent_factory.create_agent(config)\n",
    "agent.instruction = config[\"system_msg\"]"
   ]
  },
  {
   "cell_type": "code",
   "execution_count": null,
   "metadata": {},
   "outputs": [],
   "source": [
    "# agent.reset_msg_history()\n",
    "\n",
    "prompt = [\n",
    "            {\"type\": \"text\", \"text\": \"Are the two images same?\\n\"},\n",
    "            {\"type\": \"text\", \"text\": \"return a json object with the following keys:\\n\"},\n",
    "            {\"type\": \"text\", \"text\": \"same: true/false\\n\"},\n",
    "            {\"type\": \"text\", \"text\": \"reason: string\\n\"},\n",
    "            {\"type\": \"text\", \"text\": \"confidence: 0-1\\n\"},\n",
    "            {\"type\": \"text\", \"text\": \"\\n\"},\n",
    "            {\"type\": \"text\", \"text\": \"Please answer in json format.\"},\n",
    "            # {\"type\": \"text\", \"text\": \"What are the differences between the two images?\"},\n",
    "            {\"type\": \"image\"},\n",
    "            {\"type\": \"image\"},\n",
    "        ]\n",
    "images = [\"assets/chatbot.png\", \"assets/folder.png\"]\n",
    "\n",
    "response, text = agent.get_response(prompt, images = images)"
   ]
  },
  {
   "cell_type": "code",
   "execution_count": null,
   "metadata": {},
   "outputs": [],
   "source": [
    "response.usage"
   ]
  },
  {
   "cell_type": "code",
   "execution_count": null,
   "metadata": {},
   "outputs": [],
   "source": [
    "print(response)\n",
    "print(text)\n",
    "agent.llm.total_cost()"
   ]
  }
 ],
 "metadata": {
  "kernelspec": {
   "display_name": "transcreation",
   "language": "python",
   "name": "python3"
  },
  "language_info": {
   "codemirror_mode": {
    "name": "ipython",
    "version": 3
   },
   "file_extension": ".py",
   "mimetype": "text/x-python",
   "name": "python",
   "nbconvert_exporter": "python",
   "pygments_lexer": "ipython3",
   "version": "3.10.12"
  }
 },
 "nbformat": 4,
 "nbformat_minor": 2
}
