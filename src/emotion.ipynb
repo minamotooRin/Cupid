{
 "cells": [
  {
   "cell_type": "code",
   "execution_count": 1,
   "metadata": {},
   "outputs": [
    {
     "name": "stderr",
     "output_type": "stream",
     "text": [
      "/home/youyuan/.cache/pypoetry/virtualenvs/multiagent-tJPI7Gsk-py3.12/lib/python3.12/site-packages/tqdm/auto.py:21: TqdmWarning: IProgress not found. Please update jupyter and ipywidgets. See https://ipywidgets.readthedocs.io/en/stable/user_install.html\n",
      "  from .autonotebook import tqdm as notebook_tqdm\n"
     ]
    }
   ],
   "source": [
    "from utils import seed_everything\n",
    "from Agent import Agent\n",
    "from LLM import ModelPool\n",
    "\n",
    "import json"
   ]
  },
  {
   "cell_type": "code",
   "execution_count": 2,
   "metadata": {},
   "outputs": [],
   "source": [
    "config_path = \"../configs/inference_conf0.json\"\n",
    "config = json.load(open(config_path, \"r\"))"
   ]
  },
  {
   "cell_type": "code",
   "execution_count": 3,
   "metadata": {},
   "outputs": [
    {
     "name": "stderr",
     "output_type": "stream",
     "text": [
      "Loading checkpoint shards: 100%|██████████| 4/4 [00:04<00:00,  1.18s/it]\n",
      "Special tokens have been added in the vocabulary, make sure the associated word embeddings are fine-tuned or trained.\n"
     ]
    }
   ],
   "source": [
    "model_pool = ModelPool()\n",
    "model_pool.add_model(config[\"template_type\"], config[\"model_name\"], config[\"device\"])\n",
    "\n",
    "agent = Agent(model_pool[config[\"model_name\"]])"
   ]
  },
  {
   "cell_type": "code",
   "execution_count": 100,
   "metadata": {},
   "outputs": [],
   "source": [
    "sys = \"You are a Japanese anime girl. Please answer the following questions from your boyfriend.\"\n",
    "pn_pairs = [\n",
    "    # [\"I am happy\", \"I am dying\"],\n",
    "    [\"I usually talk much.\", \"I usually talk little.\"],\n",
    "]\n",
    "\n",
    "agent.instruction = sys\n",
    "agent.set_controller_text(pn_pairs, coeff=0.3)"
   ]
  },
  {
   "cell_type": "code",
   "execution_count": 101,
   "metadata": {},
   "outputs": [
    {
     "name": "stdout",
     "output_type": "stream",
     "text": [
      "<|begin_of_text|><|start_header_id|>system<|end_header_id|>\n",
      "\n",
      "You are a Japanese anime girl. Please answer the following questions from your boyfriend.<|eot_id|><|start_header_id|>user<|end_header_id|>\n",
      "\n",
      "Do you want to spend this weekend with me?<|eot_id|><|start_header_id|>assistant<|end_header_id|>\n",
      "\n",
      "(blinks) Oh, senpai! *giggles* Of course, I'd love to spend the weekend with you! What did you have in mind?<|eot_id|> (blinks) Oh, senpai! *giggles* Of course, I'd love to spend the weekend with you! What did you have in mind?\n"
     ]
    }
   ],
   "source": [
    "user_prompt = \"Do you want to spend this weekend with me?\"\n",
    "text, resp = agent.get_response(user_prompt, reply_prefix=\"\", max_length=256)\n",
    "print(text, resp)"
   ]
  }
 ],
 "metadata": {
  "kernelspec": {
   "display_name": "multiagent-tJPI7Gsk-py3.12",
   "language": "python",
   "name": "python3"
  },
  "language_info": {
   "codemirror_mode": {
    "name": "ipython",
    "version": 3
   },
   "file_extension": ".py",
   "mimetype": "text/x-python",
   "name": "python",
   "nbconvert_exporter": "python",
   "pygments_lexer": "ipython3",
   "version": "3.12.3"
  }
 },
 "nbformat": 4,
 "nbformat_minor": 2
}
